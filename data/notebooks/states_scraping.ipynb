{
 "cells": [
  {
   "cell_type": "markdown",
   "id": "82a9940e",
   "metadata": {},
   "source": [
    "# US states"
   ]
  },
  {
   "cell_type": "code",
   "execution_count": 19,
   "id": "b00a48a9",
   "metadata": {},
   "outputs": [],
   "source": [
    "# Import of libraries\n",
    "\n",
    "import pandas as pd\n",
    "from selenium.webdriver.chrome.options import Options\n",
    "from webdriver_manager.chrome import ChromeDriverManager\n",
    "from selenium import webdriver\n",
    "from selenium.webdriver.common.by import By\n"
   ]
  },
  {
   "cell_type": "code",
   "execution_count": 20,
   "id": "da02a8c7",
   "metadata": {},
   "outputs": [],
   "source": [
    "# Setting the URL\n",
    "\n",
    "url = 'https://www.sport-histoire.fr/es/Geografia/Lista_estados_estados_unidos.php'"
   ]
  },
  {
   "cell_type": "code",
   "execution_count": 21,
   "id": "63a496b7",
   "metadata": {},
   "outputs": [],
   "source": [
    "# Setting the driver\n",
    "\n",
    "driver = webdriver.Chrome()\n",
    "driver.get(url)"
   ]
  },
  {
   "cell_type": "code",
   "execution_count": 22,
   "id": "c3c5ff31",
   "metadata": {},
   "outputs": [
    {
     "data": {
      "text/plain": [
       "<selenium.webdriver.remote.webelement.WebElement (session=\"8fa4c51ce213a00746f506ddb1800a14\", element=\"DF7283211A8754ACFC9F7D872C24F41F_element_9\")>"
      ]
     },
     "execution_count": 22,
     "metadata": {},
     "output_type": "execute_result"
    }
   ],
   "source": [
    "# Selecting the whole table\n",
    "\n",
    "table = driver.find_element(By.XPATH, '/html/body/div/div[2]/div[2]/div[1]/div/table')\n",
    "table"
   ]
  },
  {
   "cell_type": "code",
   "execution_count": 23,
   "id": "2dc00bb9",
   "metadata": {},
   "outputs": [
    {
     "data": {
      "text/plain": [
       "'Alabama (AL)'"
      ]
     },
     "execution_count": 23,
     "metadata": {},
     "output_type": "execute_result"
    }
   ],
   "source": [
    "# Selecting the body of the table, its rows and the first data\n",
    "\n",
    "body = table.find_element(By.TAG_NAME, 'tbody')\n",
    "\n",
    "rows = body.find_elements(By.TAG_NAME, 'tr')\n",
    "\n",
    "rows[0].find_elements(By.TAG_NAME, 'td')[0].text"
   ]
  },
  {
   "cell_type": "code",
   "execution_count": 24,
   "id": "59a7259d",
   "metadata": {},
   "outputs": [
    {
     "data": {
      "text/plain": [
       "[['Alabama (AL)', 'Montgomery', '135 756'],\n",
       " ['Alaska (AK)', 'Juneau', '1 717 854'],\n",
       " ['Arizona (AZ)', 'Phoenix', '295 254'],\n",
       " ['Arkansas (AR)', 'Little Rock', '137 732'],\n",
       " ['California (CA)', 'Sacramento', '423 970'],\n",
       " ['Carolina del Norte (NC)', 'Raleigh', '139 389'],\n",
       " ['Carolina del Sur (SC)', 'Columbia', '82 932'],\n",
       " ['Colorado (CO)', 'Denver', '269 601'],\n",
       " ['Connecticut (CT)', 'Hartford', '14 357'],\n",
       " ['Dakota del Norte (ND)', 'Bismarck', '183 112'],\n",
       " ['Dakota del Sur (SD)', 'Pierre', '199 731'],\n",
       " ['Delaware (DE)', 'Dover', '6 447'],\n",
       " ['Florida (FL)', 'Tallahassee', '170 304'],\n",
       " ['Georgia (GA)', 'Atlanta', '153 909'],\n",
       " ['Hawái (HI)', 'Honolulu', '28 311'],\n",
       " ['Idaho (ID)', 'Boise', '216 446'],\n",
       " ['Illinois (IL)', 'Springfield', '149 998'],\n",
       " ['Indiana (IN)', 'Indianápolis', '94 321'],\n",
       " ['Iowa (IA)', 'Des Moines', '145 743'],\n",
       " ['Kansas (KS)', 'Topeka', '213 096'],\n",
       " ['Kentucky (KY)', 'Frankfort', '104 659'],\n",
       " ['Luisiana (LA)', 'Baton Rouge', '134 264'],\n",
       " ['Maine (ME)', 'Augusta', '91 646'],\n",
       " ['Maryland (MD)', 'Annapolis', '32 133'],\n",
       " ['Massachusetts (MA)', 'Boston', '27 336'],\n",
       " ['Míchigan (MI)', 'Lansing', '250 494'],\n",
       " ['Minnesota (MN)', 'Saint Paul', '225 171'],\n",
       " ['Misisipi (MS)', 'Jackson', '125 434'],\n",
       " ['Misuri (MO)', 'Jefferson City', '180 533'],\n",
       " ['Montana (MT)', 'Helena', '380 838'],\n",
       " ['Nebraska (NE)', 'Lincoln', '200 345'],\n",
       " ['Nevada (NV)', 'Carson City', '286 351'],\n",
       " ['Nueva Jersey (NJ)', 'Trenton', '22 588'],\n",
       " ['Nueva York (NY)', 'Albany', '141 299'],\n",
       " ['Nuevo Hampshire (NH)', 'Concord', '24 216'],\n",
       " ['Nuevo México (NM)', 'Santa Fe', '314 915'],\n",
       " ['Ohio (OH)', 'Columbus', '116 096'],\n",
       " ['Oklahoma (OK)', 'Oklahoma City', '181 035'],\n",
       " ['Oregón (OR)', 'Salem', '254 805'],\n",
       " ['Pensilvania (PA)', 'Harrisburg', '119 283'],\n",
       " ['Rhode Island (RI)', 'Providence', '4 002'],\n",
       " ['Tennessee (TN)', 'Nashville', '109 151'],\n",
       " ['Texas (TX)', 'Austin', '695 621'],\n",
       " ['Utah (UT)', 'Salt Lake City', '219 887'],\n",
       " ['Vermont (VT)', 'Montpelier', '24 901'],\n",
       " ['Virginia (VA)', 'Richmond', '110 785'],\n",
       " ['Virginia Occidental (WV)', 'Charleston', '62 755'],\n",
       " ['Washington (WA)', 'Olympia', '184 665'],\n",
       " ['Wisconsin (WI)', 'Madison', '169 639'],\n",
       " ['Wyoming (WY)', 'Cheyenne', '253 336']]"
      ]
     },
     "execution_count": 24,
     "metadata": {},
     "output_type": "execute_result"
    }
   ],
   "source": [
    "# Extraction of all the data per row\n",
    "\n",
    "matrix = []\n",
    "\n",
    "for r in rows:\n",
    "    temp = []\n",
    "\n",
    "    elements = r.find_elements(By.TAG_NAME, 'td')\n",
    "\n",
    "    for e in elements:\n",
    "        temp.append(e.text)\n",
    "\n",
    "    matrix.append(temp)\n",
    "\n",
    "matrix"
   ]
  },
  {
   "cell_type": "code",
   "execution_count": 25,
   "id": "658413ed",
   "metadata": {},
   "outputs": [],
   "source": [
    "# Extraction of the head of the table\n",
    "\n",
    "head = table.find_element(By.TAG_NAME, 'thead')\n",
    "\n",
    "head = [e.text for e in head.find_elements(By.TAG_NAME, 'th')]"
   ]
  },
  {
   "cell_type": "code",
   "execution_count": 26,
   "id": "35e3b2e3",
   "metadata": {},
   "outputs": [
    {
     "data": {
      "text/html": [
       "<div>\n",
       "<style scoped>\n",
       "    .dataframe tbody tr th:only-of-type {\n",
       "        vertical-align: middle;\n",
       "    }\n",
       "\n",
       "    .dataframe tbody tr th {\n",
       "        vertical-align: top;\n",
       "    }\n",
       "\n",
       "    .dataframe thead th {\n",
       "        text-align: right;\n",
       "    }\n",
       "</style>\n",
       "<table border=\"1\" class=\"dataframe\">\n",
       "  <thead>\n",
       "    <tr style=\"text-align: right;\">\n",
       "      <th></th>\n",
       "      <th>Estado</th>\n",
       "      <th>Capital</th>\n",
       "      <th>Superficie (km²)</th>\n",
       "    </tr>\n",
       "  </thead>\n",
       "  <tbody>\n",
       "    <tr>\n",
       "      <th>0</th>\n",
       "      <td>Alabama (AL)</td>\n",
       "      <td>Montgomery</td>\n",
       "      <td>135 756</td>\n",
       "    </tr>\n",
       "    <tr>\n",
       "      <th>1</th>\n",
       "      <td>Alaska (AK)</td>\n",
       "      <td>Juneau</td>\n",
       "      <td>1 717 854</td>\n",
       "    </tr>\n",
       "    <tr>\n",
       "      <th>2</th>\n",
       "      <td>Arizona (AZ)</td>\n",
       "      <td>Phoenix</td>\n",
       "      <td>295 254</td>\n",
       "    </tr>\n",
       "    <tr>\n",
       "      <th>3</th>\n",
       "      <td>Arkansas (AR)</td>\n",
       "      <td>Little Rock</td>\n",
       "      <td>137 732</td>\n",
       "    </tr>\n",
       "    <tr>\n",
       "      <th>4</th>\n",
       "      <td>California (CA)</td>\n",
       "      <td>Sacramento</td>\n",
       "      <td>423 970</td>\n",
       "    </tr>\n",
       "  </tbody>\n",
       "</table>\n",
       "</div>"
      ],
      "text/plain": [
       "            Estado      Capital Superficie (km²)\n",
       "0     Alabama (AL)   Montgomery          135 756\n",
       "1      Alaska (AK)       Juneau        1 717 854\n",
       "2     Arizona (AZ)      Phoenix          295 254\n",
       "3    Arkansas (AR)  Little Rock          137 732\n",
       "4  California (CA)   Sacramento          423 970"
      ]
     },
     "execution_count": 26,
     "metadata": {},
     "output_type": "execute_result"
    }
   ],
   "source": [
    "# Creation and display of the data frame\n",
    "\n",
    "states = pd.DataFrame(matrix, columns = head)\n",
    "states.head()"
   ]
  },
  {
   "cell_type": "code",
   "execution_count": 27,
   "id": "2652a5e3",
   "metadata": {},
   "outputs": [
    {
     "data": {
      "text/html": [
       "<div>\n",
       "<style scoped>\n",
       "    .dataframe tbody tr th:only-of-type {\n",
       "        vertical-align: middle;\n",
       "    }\n",
       "\n",
       "    .dataframe tbody tr th {\n",
       "        vertical-align: top;\n",
       "    }\n",
       "\n",
       "    .dataframe thead th {\n",
       "        text-align: right;\n",
       "    }\n",
       "</style>\n",
       "<table border=\"1\" class=\"dataframe\">\n",
       "  <thead>\n",
       "    <tr style=\"text-align: right;\">\n",
       "      <th></th>\n",
       "      <th>state</th>\n",
       "      <th>capital_city</th>\n",
       "      <th>square_km</th>\n",
       "    </tr>\n",
       "  </thead>\n",
       "  <tbody>\n",
       "    <tr>\n",
       "      <th>0</th>\n",
       "      <td>Alabama (AL)</td>\n",
       "      <td>Montgomery</td>\n",
       "      <td>135 756</td>\n",
       "    </tr>\n",
       "    <tr>\n",
       "      <th>1</th>\n",
       "      <td>Alaska (AK)</td>\n",
       "      <td>Juneau</td>\n",
       "      <td>1 717 854</td>\n",
       "    </tr>\n",
       "    <tr>\n",
       "      <th>2</th>\n",
       "      <td>Arizona (AZ)</td>\n",
       "      <td>Phoenix</td>\n",
       "      <td>295 254</td>\n",
       "    </tr>\n",
       "    <tr>\n",
       "      <th>3</th>\n",
       "      <td>Arkansas (AR)</td>\n",
       "      <td>Little Rock</td>\n",
       "      <td>137 732</td>\n",
       "    </tr>\n",
       "    <tr>\n",
       "      <th>4</th>\n",
       "      <td>California (CA)</td>\n",
       "      <td>Sacramento</td>\n",
       "      <td>423 970</td>\n",
       "    </tr>\n",
       "  </tbody>\n",
       "</table>\n",
       "</div>"
      ],
      "text/plain": [
       "             state capital_city  square_km\n",
       "0     Alabama (AL)   Montgomery    135 756\n",
       "1      Alaska (AK)       Juneau  1 717 854\n",
       "2     Arizona (AZ)      Phoenix    295 254\n",
       "3    Arkansas (AR)  Little Rock    137 732\n",
       "4  California (CA)   Sacramento    423 970"
      ]
     },
     "execution_count": 27,
     "metadata": {},
     "output_type": "execute_result"
    }
   ],
   "source": [
    "# Rename of columns \n",
    "\n",
    "states = states.rename(columns = {'Estado': 'state', 'Capital': 'capital_city',\n",
    "                         'Superficie (km²)': 'square_km'})\n",
    "states.head()"
   ]
  },
  {
   "cell_type": "code",
   "execution_count": 28,
   "id": "2725fab2",
   "metadata": {},
   "outputs": [
    {
     "data": {
      "text/html": [
       "<div>\n",
       "<style scoped>\n",
       "    .dataframe tbody tr th:only-of-type {\n",
       "        vertical-align: middle;\n",
       "    }\n",
       "\n",
       "    .dataframe tbody tr th {\n",
       "        vertical-align: top;\n",
       "    }\n",
       "\n",
       "    .dataframe thead th {\n",
       "        text-align: right;\n",
       "    }\n",
       "</style>\n",
       "<table border=\"1\" class=\"dataframe\">\n",
       "  <thead>\n",
       "    <tr style=\"text-align: right;\">\n",
       "      <th></th>\n",
       "      <th>state</th>\n",
       "      <th>capital_city</th>\n",
       "      <th>square_km</th>\n",
       "      <th>abbreviation</th>\n",
       "    </tr>\n",
       "  </thead>\n",
       "  <tbody>\n",
       "    <tr>\n",
       "      <th>0</th>\n",
       "      <td>Alabama</td>\n",
       "      <td>Montgomery</td>\n",
       "      <td>135 756</td>\n",
       "      <td>AL</td>\n",
       "    </tr>\n",
       "    <tr>\n",
       "      <th>1</th>\n",
       "      <td>Alaska</td>\n",
       "      <td>Juneau</td>\n",
       "      <td>1 717 854</td>\n",
       "      <td>AK</td>\n",
       "    </tr>\n",
       "    <tr>\n",
       "      <th>2</th>\n",
       "      <td>Arizona</td>\n",
       "      <td>Phoenix</td>\n",
       "      <td>295 254</td>\n",
       "      <td>AZ</td>\n",
       "    </tr>\n",
       "    <tr>\n",
       "      <th>3</th>\n",
       "      <td>Arkansas</td>\n",
       "      <td>Little Rock</td>\n",
       "      <td>137 732</td>\n",
       "      <td>AR</td>\n",
       "    </tr>\n",
       "    <tr>\n",
       "      <th>4</th>\n",
       "      <td>California</td>\n",
       "      <td>Sacramento</td>\n",
       "      <td>423 970</td>\n",
       "      <td>CA</td>\n",
       "    </tr>\n",
       "  </tbody>\n",
       "</table>\n",
       "</div>"
      ],
      "text/plain": [
       "        state capital_city  square_km abbreviation\n",
       "0     Alabama   Montgomery    135 756           AL\n",
       "1      Alaska       Juneau  1 717 854           AK\n",
       "2     Arizona      Phoenix    295 254           AZ\n",
       "3    Arkansas  Little Rock    137 732           AR\n",
       "4  California   Sacramento    423 970           CA"
      ]
     },
     "execution_count": 28,
     "metadata": {},
     "output_type": "execute_result"
    }
   ],
   "source": [
    "# Separation of the name of the state and its abbreviation into two different columns\n",
    "\n",
    "states['abbreviation'] = states['state'].str.split('(').str.get(1)\n",
    "states['state'] = states['state'].str.split(' ').str.get(0)\n",
    "states['abbreviation'] = [e.replace(')', '') for e in states['abbreviation']]\n",
    "states.head()"
   ]
  },
  {
   "cell_type": "code",
   "execution_count": 29,
   "id": "ca90497e",
   "metadata": {},
   "outputs": [
    {
     "data": {
      "text/html": [
       "<div>\n",
       "<style scoped>\n",
       "    .dataframe tbody tr th:only-of-type {\n",
       "        vertical-align: middle;\n",
       "    }\n",
       "\n",
       "    .dataframe tbody tr th {\n",
       "        vertical-align: top;\n",
       "    }\n",
       "\n",
       "    .dataframe thead th {\n",
       "        text-align: right;\n",
       "    }\n",
       "</style>\n",
       "<table border=\"1\" class=\"dataframe\">\n",
       "  <thead>\n",
       "    <tr style=\"text-align: right;\">\n",
       "      <th></th>\n",
       "      <th>state</th>\n",
       "      <th>capital_city</th>\n",
       "      <th>square_km</th>\n",
       "      <th>abbreviation</th>\n",
       "    </tr>\n",
       "  </thead>\n",
       "  <tbody>\n",
       "    <tr>\n",
       "      <th>0</th>\n",
       "      <td>Alabama</td>\n",
       "      <td>Montgomery</td>\n",
       "      <td>135756</td>\n",
       "      <td>AL</td>\n",
       "    </tr>\n",
       "    <tr>\n",
       "      <th>1</th>\n",
       "      <td>Alaska</td>\n",
       "      <td>Juneau</td>\n",
       "      <td>1717854</td>\n",
       "      <td>AK</td>\n",
       "    </tr>\n",
       "    <tr>\n",
       "      <th>2</th>\n",
       "      <td>Arizona</td>\n",
       "      <td>Phoenix</td>\n",
       "      <td>295254</td>\n",
       "      <td>AZ</td>\n",
       "    </tr>\n",
       "    <tr>\n",
       "      <th>3</th>\n",
       "      <td>Arkansas</td>\n",
       "      <td>Little Rock</td>\n",
       "      <td>137732</td>\n",
       "      <td>AR</td>\n",
       "    </tr>\n",
       "    <tr>\n",
       "      <th>4</th>\n",
       "      <td>California</td>\n",
       "      <td>Sacramento</td>\n",
       "      <td>423970</td>\n",
       "      <td>CA</td>\n",
       "    </tr>\n",
       "  </tbody>\n",
       "</table>\n",
       "</div>"
      ],
      "text/plain": [
       "        state capital_city square_km abbreviation\n",
       "0     Alabama   Montgomery    135756           AL\n",
       "1      Alaska       Juneau   1717854           AK\n",
       "2     Arizona      Phoenix    295254           AZ\n",
       "3    Arkansas  Little Rock    137732           AR\n",
       "4  California   Sacramento    423970           CA"
      ]
     },
     "execution_count": 29,
     "metadata": {},
     "output_type": "execute_result"
    }
   ],
   "source": [
    "# Deletion of the spaces in the column 'square_km'\n",
    "\n",
    "states['square_km'] = states['square_km'].str.replace(' ', '')\n",
    "states.head()\n"
   ]
  },
  {
   "cell_type": "code",
   "execution_count": 30,
   "id": "76205bbc",
   "metadata": {},
   "outputs": [
    {
     "data": {
      "text/html": [
       "<div>\n",
       "<style scoped>\n",
       "    .dataframe tbody tr th:only-of-type {\n",
       "        vertical-align: middle;\n",
       "    }\n",
       "\n",
       "    .dataframe tbody tr th {\n",
       "        vertical-align: top;\n",
       "    }\n",
       "\n",
       "    .dataframe thead th {\n",
       "        text-align: right;\n",
       "    }\n",
       "</style>\n",
       "<table border=\"1\" class=\"dataframe\">\n",
       "  <thead>\n",
       "    <tr style=\"text-align: right;\">\n",
       "      <th></th>\n",
       "      <th>state</th>\n",
       "      <th>abbreviation</th>\n",
       "      <th>capital_city</th>\n",
       "      <th>square_km</th>\n",
       "    </tr>\n",
       "  </thead>\n",
       "  <tbody>\n",
       "    <tr>\n",
       "      <th>0</th>\n",
       "      <td>Alabama</td>\n",
       "      <td>AL</td>\n",
       "      <td>Montgomery</td>\n",
       "      <td>135756</td>\n",
       "    </tr>\n",
       "    <tr>\n",
       "      <th>1</th>\n",
       "      <td>Alaska</td>\n",
       "      <td>AK</td>\n",
       "      <td>Juneau</td>\n",
       "      <td>1717854</td>\n",
       "    </tr>\n",
       "    <tr>\n",
       "      <th>2</th>\n",
       "      <td>Arizona</td>\n",
       "      <td>AZ</td>\n",
       "      <td>Phoenix</td>\n",
       "      <td>295254</td>\n",
       "    </tr>\n",
       "    <tr>\n",
       "      <th>3</th>\n",
       "      <td>Arkansas</td>\n",
       "      <td>AR</td>\n",
       "      <td>Little Rock</td>\n",
       "      <td>137732</td>\n",
       "    </tr>\n",
       "    <tr>\n",
       "      <th>4</th>\n",
       "      <td>California</td>\n",
       "      <td>CA</td>\n",
       "      <td>Sacramento</td>\n",
       "      <td>423970</td>\n",
       "    </tr>\n",
       "  </tbody>\n",
       "</table>\n",
       "</div>"
      ],
      "text/plain": [
       "        state abbreviation capital_city square_km\n",
       "0     Alabama           AL   Montgomery    135756\n",
       "1      Alaska           AK       Juneau   1717854\n",
       "2     Arizona           AZ      Phoenix    295254\n",
       "3    Arkansas           AR  Little Rock    137732\n",
       "4  California           CA   Sacramento    423970"
      ]
     },
     "execution_count": 30,
     "metadata": {},
     "output_type": "execute_result"
    }
   ],
   "source": [
    "# Rearranging the order of the columns\n",
    "\n",
    "new_order = ['state', 'abbreviation', 'capital_city', 'square_km']\n",
    "states = states[new_order]\n",
    "states.head()"
   ]
  },
  {
   "cell_type": "code",
   "execution_count": 31,
   "id": "d5622985",
   "metadata": {},
   "outputs": [],
   "source": [
    "# Exporting the data frame into a CSV \n",
    "\n",
    "states.to_csv('states_limpio.csv')"
   ]
  },
  {
   "cell_type": "code",
   "execution_count": null,
   "id": "89dd50a2",
   "metadata": {},
   "outputs": [],
   "source": []
  }
 ],
 "metadata": {
  "kernelspec": {
   "display_name": "Python 3 (ipykernel)",
   "language": "python",
   "name": "python3"
  },
  "language_info": {
   "codemirror_mode": {
    "name": "ipython",
    "version": 3
   },
   "file_extension": ".py",
   "mimetype": "text/x-python",
   "name": "python",
   "nbconvert_exporter": "python",
   "pygments_lexer": "ipython3",
   "version": "3.11.4"
  }
 },
 "nbformat": 4,
 "nbformat_minor": 5
}
