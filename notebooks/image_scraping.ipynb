{
 "cells": [
  {
   "cell_type": "markdown",
   "id": "ff0911d9",
   "metadata": {},
   "source": [
    "# Image scraping"
   ]
  },
  {
   "cell_type": "code",
   "execution_count": 3,
   "id": "ca7bebfe",
   "metadata": {},
   "outputs": [],
   "source": [
    "from selenium import webdriver\n",
    "import urllib.request\n",
    "from selenium.webdriver.chrome.options import Options\n",
    "from webdriver_manager.chrome import ChromeDriverManager\n",
    "from selenium import webdriver\n",
    "from selenium.webdriver.common.by import By \n",
    "import time"
   ]
  },
  {
   "cell_type": "code",
   "execution_count": 4,
   "id": "2b8e8e59",
   "metadata": {},
   "outputs": [],
   "source": [
    "# Driver setting and URL\n",
    "\n",
    "driver = webdriver.Chrome()\n",
    "\n",
    "driver.get('https://deportesemanal.wordpress.com/2013/09/18/redisenando-los-logos-de-la-nfl/')"
   ]
  },
  {
   "cell_type": "code",
   "execution_count": 5,
   "id": "7e84a9cf",
   "metadata": {},
   "outputs": [],
   "source": [
    "# Selection of the picture\n",
    "\n",
    "picture = driver.find_element(By.XPATH, '//*[@id=\"post-7769\"]/div/p[2]/a/img')\n",
    "\n",
    "picture_url = picture.get_attribute(\"src\")"
   ]
  },
  {
   "cell_type": "code",
   "execution_count": 6,
   "id": "bd129316",
   "metadata": {},
   "outputs": [],
   "source": [
    "# Download\n",
    "\n",
    "urllib.request.urlretrieve(picture_url, 'picture.jpg')\n",
    "\n",
    "driver.quit()"
   ]
  }
 ],
 "metadata": {
  "kernelspec": {
   "display_name": "Python 3 (ipykernel)",
   "language": "python",
   "name": "python3"
  },
  "language_info": {
   "codemirror_mode": {
    "name": "ipython",
    "version": 3
   },
   "file_extension": ".py",
   "mimetype": "text/x-python",
   "name": "python",
   "nbconvert_exporter": "python",
   "pygments_lexer": "ipython3",
   "version": "3.11.4"
  }
 },
 "nbformat": 4,
 "nbformat_minor": 5
}
