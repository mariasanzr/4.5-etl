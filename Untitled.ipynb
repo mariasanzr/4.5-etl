{
 "cells": [
  {
   "cell_type": "markdown",
   "id": "5f47ae53",
   "metadata": {},
   "source": [
    "# US data scraping"
   ]
  },
  {
   "cell_type": "markdown",
   "id": "ed75a0f0",
   "metadata": {},
   "source": [
    "This data is from 2000 to 2006"
   ]
  },
  {
   "cell_type": "code",
   "execution_count": 1,
   "id": "be01cb20",
   "metadata": {},
   "outputs": [],
   "source": [
    "# Import of libraries\n",
    "\n",
    "import pandas as pd \n",
    "from selenium.webdriver.chrome.options import Options\n",
    "from webdriver_manager.chrome import ChromeDriverManager\n",
    "from selenium import webdriver\n",
    "from selenium.webdriver.common.by import By\n",
    "import time\n",
    "import support_scraping as f\n",
    "import re"
   ]
  },
  {
   "cell_type": "code",
   "execution_count": 2,
   "id": "76fa2771",
   "metadata": {},
   "outputs": [],
   "source": [
    "# Driver configuration\n",
    "\n",
    "driver = 'chromedriver'\n",
    "driver = webdriver.Chrome()"
   ]
  },
  {
   "cell_type": "code",
   "execution_count": 3,
   "id": "6ba2b4dd",
   "metadata": {},
   "outputs": [],
   "source": [
    "# URL and call \n",
    "\n",
    "url = 'https://www.cdc.gov/nchs/data/hestat/hearing00-06/hearing00-06.htm'\n",
    "driver.get(url)"
   ]
  },
  {
   "cell_type": "markdown",
   "id": "ecf07cc7",
   "metadata": {},
   "source": [
    "## Table 1"
   ]
  },
  {
   "cell_type": "markdown",
   "id": "2f438517",
   "metadata": {},
   "source": [
    "Age-adjusted percent distributions (with standard errors) of hearing status among all adults."
   ]
  },
  {
   "cell_type": "code",
   "execution_count": 4,
   "id": "a7063588",
   "metadata": {},
   "outputs": [
    {
     "data": {
      "text/plain": [
       "<selenium.webdriver.remote.webelement.WebElement (session=\"39a7be1d8b14fd4e45f0040e138740d4\", element=\"EBC0780C5C38B587C5619647DDDFBAA4_element_52\")>"
      ]
     },
     "execution_count": 4,
     "metadata": {},
     "output_type": "execute_result"
    }
   ],
   "source": [
    "# Extraction of the whole table \n",
    "\n",
    "hs_adults = driver.find_element(By.XPATH, '/html/body/div[6]/main/div[3]/div/div[3]/table[1]')\n",
    "hs_adults"
   ]
  },
  {
   "cell_type": "code",
   "execution_count": 5,
   "id": "a03c3cec",
   "metadata": {},
   "outputs": [
    {
     "data": {
      "text/plain": [
       "[['100.0', '83.7 (0.19)', '12.9 (0.16)', '3.3 (0.06)']]"
      ]
     },
     "execution_count": 5,
     "metadata": {},
     "output_type": "execute_result"
    }
   ],
   "source": [
    "# Extraction of columns and body\n",
    "\n",
    "cols = hs_adults.find_element(By.TAG_NAME, 'thead').text\n",
    "rows = hs_adults.find_element(By.CSS_SELECTOR, 'tbody').find_elements(By.CSS_SELECTOR, 'tr')\n",
    "\n",
    "row_data = []\n",
    "\n",
    "for r in rows:\n",
    "    data = [e for e in r.find_elements(By.CSS_SELECTOR, 'td')]\n",
    "    \n",
    "    temp = []\n",
    "    for d in data:\n",
    "        if d.text:\n",
    "            temp.append(d.text)\n",
    "            \n",
    "    row_data.append(temp)\n",
    "    \n",
    "row_data[:2]\n"
   ]
  },
  {
   "cell_type": "code",
   "execution_count": 6,
   "id": "c95214d7",
   "metadata": {},
   "outputs": [
    {
     "name": "stdout",
     "output_type": "stream",
     "text": [
      "Total2 Good hearing A little trouble hearing Deaf or a lot of trouble hearing\n",
      "[['100.0', '83.7 (0.19)', '12.9 (0.16)', '3.3 (0.06)']]\n"
     ]
    }
   ],
   "source": [
    "# Results\n",
    "\n",
    "print(cols)\n",
    "print(row_data)\n"
   ]
  },
  {
   "cell_type": "code",
   "execution_count": 7,
   "id": "af7923ee",
   "metadata": {},
   "outputs": [],
   "source": [
    "# Data cleaning for columns\n",
    "\n",
    "cols = f.correction(cols)"
   ]
  },
  {
   "cell_type": "code",
   "execution_count": 8,
   "id": "06462f7d",
   "metadata": {},
   "outputs": [
    {
     "data": {
      "text/html": [
       "<div>\n",
       "<style scoped>\n",
       "    .dataframe tbody tr th:only-of-type {\n",
       "        vertical-align: middle;\n",
       "    }\n",
       "\n",
       "    .dataframe tbody tr th {\n",
       "        vertical-align: top;\n",
       "    }\n",
       "\n",
       "    .dataframe thead th {\n",
       "        text-align: right;\n",
       "    }\n",
       "</style>\n",
       "<table border=\"1\" class=\"dataframe\">\n",
       "  <thead>\n",
       "    <tr style=\"text-align: right;\">\n",
       "      <th></th>\n",
       "      <th>0</th>\n",
       "    </tr>\n",
       "  </thead>\n",
       "  <tbody>\n",
       "    <tr>\n",
       "      <th>total</th>\n",
       "      <td>100.0</td>\n",
       "    </tr>\n",
       "    <tr>\n",
       "      <th>good_hearing</th>\n",
       "      <td>83.7 (0.19)</td>\n",
       "    </tr>\n",
       "    <tr>\n",
       "      <th>little_trouble</th>\n",
       "      <td>12.9 (0.16)</td>\n",
       "    </tr>\n",
       "    <tr>\n",
       "      <th>lot_of_trouble</th>\n",
       "      <td>3.3 (0.06)</td>\n",
       "    </tr>\n",
       "  </tbody>\n",
       "</table>\n",
       "</div>"
      ],
      "text/plain": [
       "                          0\n",
       "total                 100.0\n",
       "good_hearing    83.7 (0.19)\n",
       "little_trouble  12.9 (0.16)\n",
       "lot_of_trouble   3.3 (0.06)"
      ]
     },
     "execution_count": 8,
     "metadata": {},
     "output_type": "execute_result"
    }
   ],
   "source": [
    "# Display of the data frame\n",
    "\n",
    "total_adults = pd.DataFrame(row_data, columns = cols).T\n",
    "total_adults"
   ]
  },
  {
   "cell_type": "markdown",
   "id": "cd1472a0",
   "metadata": {},
   "source": [
    "## Table 2"
   ]
  },
  {
   "cell_type": "markdown",
   "id": "72597307",
   "metadata": {},
   "source": [
    "Age-adjusted percent distributions (with standard errors) of hearing status by sex."
   ]
  },
  {
   "cell_type": "code",
   "execution_count": 9,
   "id": "e56120ae",
   "metadata": {},
   "outputs": [
    {
     "data": {
      "text/plain": [
       "<selenium.webdriver.remote.webelement.WebElement (session=\"39a7be1d8b14fd4e45f0040e138740d4\", element=\"EBC0780C5C38B587C5619647DDDFBAA4_element_60\")>"
      ]
     },
     "execution_count": 9,
     "metadata": {},
     "output_type": "execute_result"
    }
   ],
   "source": [
    "# Extraction of the whole table \n",
    "\n",
    "sex = driver.find_element(By.XPATH, '/html/body/div[6]/main/div[3]/div/div[3]/table[2]')\n",
    "sex"
   ]
  },
  {
   "cell_type": "code",
   "execution_count": 10,
   "id": "ed9128ce",
   "metadata": {},
   "outputs": [
    {
     "data": {
      "text/plain": [
       "[['100.0', '80.0 (0.25)', '15.6 (0.21)', '4.3 (0.09)'],\n",
       " ['100.0', '86.9 (0.17)', '10.6 (0.15)', '2.4 (0.05)']]"
      ]
     },
     "execution_count": 10,
     "metadata": {},
     "output_type": "execute_result"
    }
   ],
   "source": [
    "# Extraction of columns and body\n",
    "\n",
    "#cols = sex.find_element(By.TAG_NAME, 'thead').text\n",
    "rows = sex.find_element(By.CSS_SELECTOR, 'tbody').find_elements(By.CSS_SELECTOR, 'tr')\n",
    "row_data = []\n",
    "\n",
    "for r in rows:\n",
    "    data = [e for e in r.find_elements(By.CSS_SELECTOR, 'td')]\n",
    "    \n",
    "    temp = []\n",
    "    for d in data:\n",
    "        if d.text:\n",
    "            temp.append(d.text)\n",
    "            \n",
    "    row_data.append(temp)\n",
    "    \n",
    "row_data[:2]"
   ]
  },
  {
   "cell_type": "code",
   "execution_count": 11,
   "id": "521914ae",
   "metadata": {},
   "outputs": [
    {
     "name": "stdout",
     "output_type": "stream",
     "text": [
      "['total', 'good_hearing', 'little_trouble', 'lot_of_trouble']\n",
      "[['100.0', '80.0 (0.25)', '15.6 (0.21)', '4.3 (0.09)'], ['100.0', '86.9 (0.17)', '10.6 (0.15)', '2.4 (0.05)']]\n"
     ]
    }
   ],
   "source": [
    "# Results\n",
    "\n",
    "print(cols)\n",
    "print(row_data)"
   ]
  },
  {
   "cell_type": "code",
   "execution_count": 12,
   "id": "01cf6e59",
   "metadata": {},
   "outputs": [
    {
     "data": {
      "text/html": [
       "<div>\n",
       "<style scoped>\n",
       "    .dataframe tbody tr th:only-of-type {\n",
       "        vertical-align: middle;\n",
       "    }\n",
       "\n",
       "    .dataframe tbody tr th {\n",
       "        vertical-align: top;\n",
       "    }\n",
       "\n",
       "    .dataframe thead th {\n",
       "        text-align: right;\n",
       "    }\n",
       "</style>\n",
       "<table border=\"1\" class=\"dataframe\">\n",
       "  <thead>\n",
       "    <tr style=\"text-align: right;\">\n",
       "      <th></th>\n",
       "      <th>total</th>\n",
       "      <th>good_hearing</th>\n",
       "      <th>little_trouble</th>\n",
       "      <th>lot_of_trouble</th>\n",
       "    </tr>\n",
       "  </thead>\n",
       "  <tbody>\n",
       "    <tr>\n",
       "      <th>0</th>\n",
       "      <td>100.0</td>\n",
       "      <td>80.0 (0.25)</td>\n",
       "      <td>15.6 (0.21)</td>\n",
       "      <td>4.3 (0.09)</td>\n",
       "    </tr>\n",
       "    <tr>\n",
       "      <th>1</th>\n",
       "      <td>100.0</td>\n",
       "      <td>86.9 (0.17)</td>\n",
       "      <td>10.6 (0.15)</td>\n",
       "      <td>2.4 (0.05)</td>\n",
       "    </tr>\n",
       "  </tbody>\n",
       "</table>\n",
       "</div>"
      ],
      "text/plain": [
       "   total good_hearing little_trouble lot_of_trouble\n",
       "0  100.0  80.0 (0.25)    15.6 (0.21)     4.3 (0.09)\n",
       "1  100.0  86.9 (0.17)    10.6 (0.15)     2.4 (0.05)"
      ]
     },
     "execution_count": 12,
     "metadata": {},
     "output_type": "execute_result"
    }
   ],
   "source": [
    "# Display of the data frame\n",
    "\n",
    "sex = pd.DataFrame(row_data)\n",
    "sex.columns = cols\n",
    "sex"
   ]
  },
  {
   "cell_type": "code",
   "execution_count": 13,
   "id": "e3ef9b0e",
   "metadata": {},
   "outputs": [],
   "source": [
    "# Creation of the column 'sex' and adding its values\n",
    "\n",
    "sex['-'] = ''\n",
    "\n",
    "sex.loc[0, '-'] = 'male'\n",
    "sex.loc[1, '-'] = 'female'"
   ]
  },
  {
   "cell_type": "code",
   "execution_count": 14,
   "id": "23d2670b",
   "metadata": {},
   "outputs": [
    {
     "data": {
      "text/html": [
       "<div>\n",
       "<style scoped>\n",
       "    .dataframe tbody tr th:only-of-type {\n",
       "        vertical-align: middle;\n",
       "    }\n",
       "\n",
       "    .dataframe tbody tr th {\n",
       "        vertical-align: top;\n",
       "    }\n",
       "\n",
       "    .dataframe thead th {\n",
       "        text-align: right;\n",
       "    }\n",
       "</style>\n",
       "<table border=\"1\" class=\"dataframe\">\n",
       "  <thead>\n",
       "    <tr style=\"text-align: right;\">\n",
       "      <th></th>\n",
       "      <th>0</th>\n",
       "      <th>1</th>\n",
       "    </tr>\n",
       "  </thead>\n",
       "  <tbody>\n",
       "    <tr>\n",
       "      <th>-</th>\n",
       "      <td>male</td>\n",
       "      <td>female</td>\n",
       "    </tr>\n",
       "    <tr>\n",
       "      <th>total</th>\n",
       "      <td>100.0</td>\n",
       "      <td>100.0</td>\n",
       "    </tr>\n",
       "    <tr>\n",
       "      <th>good_hearing</th>\n",
       "      <td>80.0 (0.25)</td>\n",
       "      <td>86.9 (0.17)</td>\n",
       "    </tr>\n",
       "    <tr>\n",
       "      <th>little_trouble</th>\n",
       "      <td>15.6 (0.21)</td>\n",
       "      <td>10.6 (0.15)</td>\n",
       "    </tr>\n",
       "    <tr>\n",
       "      <th>lot_of_trouble</th>\n",
       "      <td>4.3 (0.09)</td>\n",
       "      <td>2.4 (0.05)</td>\n",
       "    </tr>\n",
       "  </tbody>\n",
       "</table>\n",
       "</div>"
      ],
      "text/plain": [
       "                          0            1\n",
       "-                      male       female\n",
       "total                 100.0        100.0\n",
       "good_hearing    80.0 (0.25)  86.9 (0.17)\n",
       "little_trouble  15.6 (0.21)  10.6 (0.15)\n",
       "lot_of_trouble   4.3 (0.09)   2.4 (0.05)"
      ]
     },
     "execution_count": 14,
     "metadata": {},
     "output_type": "execute_result"
    }
   ],
   "source": [
    "# Ordering the values\n",
    "\n",
    "sex = sex[['-', 'total', 'good_hearing', 'little_trouble', 'lot_of_trouble']].T\n",
    "sex\n"
   ]
  },
  {
   "cell_type": "markdown",
   "id": "16d66802",
   "metadata": {},
   "source": [
    "## Table 3"
   ]
  },
  {
   "cell_type": "markdown",
   "id": "aab3d7ed",
   "metadata": {},
   "source": [
    "Percent distributions (with standard errors) of hearing status by age."
   ]
  },
  {
   "cell_type": "code",
   "execution_count": 15,
   "id": "09811315",
   "metadata": {},
   "outputs": [
    {
     "data": {
      "text/plain": [
       "<selenium.webdriver.remote.webelement.WebElement (session=\"39a7be1d8b14fd4e45f0040e138740d4\", element=\"EBC0780C5C38B587C5619647DDDFBAA4_element_72\")>"
      ]
     },
     "execution_count": 15,
     "metadata": {},
     "output_type": "execute_result"
    }
   ],
   "source": [
    "# Extraction of the whole table \n",
    "\n",
    "age = driver.find_element(By.XPATH, '/html/body/div[6]/main/div[3]/div/div[3]/table[3]')\n",
    "age"
   ]
  },
  {
   "cell_type": "code",
   "execution_count": 16,
   "id": "21d49a62",
   "metadata": {},
   "outputs": [
    {
     "data": {
      "text/plain": [
       "[['100.0', '92.4 (0.15)', '6.7 (0.14)', '0.9 (0.04)'],\n",
       " ['100.0', '81.3 (0.29)', '15.6 (0.25)', '3.1 (0.09)'],\n",
       " ['100.0', '60.8 (0.39)', '27.8 (0.32)', '11.1 (0.21)']]"
      ]
     },
     "execution_count": 16,
     "metadata": {},
     "output_type": "execute_result"
    }
   ],
   "source": [
    "# Extraction of columns and body\n",
    "\n",
    "rows = age.find_element(By.CSS_SELECTOR, 'tbody').find_elements(By.CSS_SELECTOR, 'tr')\n",
    "row_data = []\n",
    "\n",
    "for r in rows:\n",
    "    data = [e for e in r.find_elements(By.CSS_SELECTOR, 'td')]\n",
    "    \n",
    "    temp = []\n",
    "    for d in data:\n",
    "        if d.text:\n",
    "            temp.append(d.text)\n",
    "            \n",
    "    row_data.append(temp)\n",
    "    \n",
    "row_data[:3]"
   ]
  },
  {
   "cell_type": "code",
   "execution_count": 17,
   "id": "61edafe3",
   "metadata": {},
   "outputs": [
    {
     "name": "stdout",
     "output_type": "stream",
     "text": [
      "['total', 'good_hearing', 'little_trouble', 'lot_of_trouble']\n",
      "[['100.0', '92.4 (0.15)', '6.7 (0.14)', '0.9 (0.04)'], ['100.0', '81.3 (0.29)', '15.6 (0.25)', '3.1 (0.09)'], ['100.0', '60.8 (0.39)', '27.8 (0.32)', '11.1 (0.21)']]\n"
     ]
    }
   ],
   "source": [
    "# Results\n",
    "\n",
    "print(cols)\n",
    "print(row_data)"
   ]
  },
  {
   "cell_type": "code",
   "execution_count": 18,
   "id": "42084e99",
   "metadata": {},
   "outputs": [
    {
     "data": {
      "text/html": [
       "<div>\n",
       "<style scoped>\n",
       "    .dataframe tbody tr th:only-of-type {\n",
       "        vertical-align: middle;\n",
       "    }\n",
       "\n",
       "    .dataframe tbody tr th {\n",
       "        vertical-align: top;\n",
       "    }\n",
       "\n",
       "    .dataframe thead th {\n",
       "        text-align: right;\n",
       "    }\n",
       "</style>\n",
       "<table border=\"1\" class=\"dataframe\">\n",
       "  <thead>\n",
       "    <tr style=\"text-align: right;\">\n",
       "      <th></th>\n",
       "      <th>total</th>\n",
       "      <th>good_hearing</th>\n",
       "      <th>little_trouble</th>\n",
       "      <th>lot_of_trouble</th>\n",
       "    </tr>\n",
       "  </thead>\n",
       "  <tbody>\n",
       "    <tr>\n",
       "      <th>0</th>\n",
       "      <td>100.0</td>\n",
       "      <td>92.4 (0.15)</td>\n",
       "      <td>6.7 (0.14)</td>\n",
       "      <td>0.9 (0.04)</td>\n",
       "    </tr>\n",
       "    <tr>\n",
       "      <th>1</th>\n",
       "      <td>100.0</td>\n",
       "      <td>81.3 (0.29)</td>\n",
       "      <td>15.6 (0.25)</td>\n",
       "      <td>3.1 (0.09)</td>\n",
       "    </tr>\n",
       "    <tr>\n",
       "      <th>2</th>\n",
       "      <td>100.0</td>\n",
       "      <td>60.8 (0.39)</td>\n",
       "      <td>27.8 (0.32)</td>\n",
       "      <td>11.1 (0.21)</td>\n",
       "    </tr>\n",
       "  </tbody>\n",
       "</table>\n",
       "</div>"
      ],
      "text/plain": [
       "   total good_hearing little_trouble lot_of_trouble\n",
       "0  100.0  92.4 (0.15)     6.7 (0.14)     0.9 (0.04)\n",
       "1  100.0  81.3 (0.29)    15.6 (0.25)     3.1 (0.09)\n",
       "2  100.0  60.8 (0.39)    27.8 (0.32)    11.1 (0.21)"
      ]
     },
     "execution_count": 18,
     "metadata": {},
     "output_type": "execute_result"
    }
   ],
   "source": [
    "# Display of the data frame\n",
    "\n",
    "age = pd.DataFrame(row_data)\n",
    "age.columns = cols\n",
    "age"
   ]
  },
  {
   "cell_type": "code",
   "execution_count": 19,
   "id": "81358733",
   "metadata": {},
   "outputs": [],
   "source": [
    "# Creation of the columns and adding its values\n",
    "\n",
    "age['-'] = ''\n",
    "\n",
    "age.loc[0, '-'] = 'age:14-44'\n",
    "age.loc[1, '-'] = 'age:45-64'\n",
    "age.loc[2, '-'] = 'age:65-'"
   ]
  },
  {
   "cell_type": "code",
   "execution_count": 20,
   "id": "b7065041",
   "metadata": {},
   "outputs": [
    {
     "data": {
      "text/html": [
       "<div>\n",
       "<style scoped>\n",
       "    .dataframe tbody tr th:only-of-type {\n",
       "        vertical-align: middle;\n",
       "    }\n",
       "\n",
       "    .dataframe tbody tr th {\n",
       "        vertical-align: top;\n",
       "    }\n",
       "\n",
       "    .dataframe thead th {\n",
       "        text-align: right;\n",
       "    }\n",
       "</style>\n",
       "<table border=\"1\" class=\"dataframe\">\n",
       "  <thead>\n",
       "    <tr style=\"text-align: right;\">\n",
       "      <th></th>\n",
       "      <th>0</th>\n",
       "      <th>1</th>\n",
       "      <th>2</th>\n",
       "    </tr>\n",
       "  </thead>\n",
       "  <tbody>\n",
       "    <tr>\n",
       "      <th>-</th>\n",
       "      <td>age:14-44</td>\n",
       "      <td>age:45-64</td>\n",
       "      <td>age:65-</td>\n",
       "    </tr>\n",
       "    <tr>\n",
       "      <th>total</th>\n",
       "      <td>100.0</td>\n",
       "      <td>100.0</td>\n",
       "      <td>100.0</td>\n",
       "    </tr>\n",
       "    <tr>\n",
       "      <th>good_hearing</th>\n",
       "      <td>92.4 (0.15)</td>\n",
       "      <td>81.3 (0.29)</td>\n",
       "      <td>60.8 (0.39)</td>\n",
       "    </tr>\n",
       "    <tr>\n",
       "      <th>little_trouble</th>\n",
       "      <td>6.7 (0.14)</td>\n",
       "      <td>15.6 (0.25)</td>\n",
       "      <td>27.8 (0.32)</td>\n",
       "    </tr>\n",
       "    <tr>\n",
       "      <th>lot_of_trouble</th>\n",
       "      <td>0.9 (0.04)</td>\n",
       "      <td>3.1 (0.09)</td>\n",
       "      <td>11.1 (0.21)</td>\n",
       "    </tr>\n",
       "  </tbody>\n",
       "</table>\n",
       "</div>"
      ],
      "text/plain": [
       "                          0            1            2\n",
       "-                 age:14-44    age:45-64      age:65-\n",
       "total                 100.0        100.0        100.0\n",
       "good_hearing    92.4 (0.15)  81.3 (0.29)  60.8 (0.39)\n",
       "little_trouble   6.7 (0.14)  15.6 (0.25)  27.8 (0.32)\n",
       "lot_of_trouble   0.9 (0.04)   3.1 (0.09)  11.1 (0.21)"
      ]
     },
     "execution_count": 20,
     "metadata": {},
     "output_type": "execute_result"
    }
   ],
   "source": [
    "# Ordering the values\n",
    "\n",
    "age = age[['-', 'total', 'good_hearing', 'little_trouble', 'lot_of_trouble']].T\n",
    "age\n"
   ]
  },
  {
   "cell_type": "code",
   "execution_count": null,
   "id": "56705ae2",
   "metadata": {},
   "outputs": [],
   "source": []
  },
  {
   "cell_type": "code",
   "execution_count": null,
   "id": "2d88b04c",
   "metadata": {},
   "outputs": [],
   "source": []
  }
 ],
 "metadata": {
  "kernelspec": {
   "display_name": "Python 3 (ipykernel)",
   "language": "python",
   "name": "python3"
  },
  "language_info": {
   "codemirror_mode": {
    "name": "ipython",
    "version": 3
   },
   "file_extension": ".py",
   "mimetype": "text/x-python",
   "name": "python",
   "nbconvert_exporter": "python",
   "pygments_lexer": "ipython3",
   "version": "3.11.4"
  }
 },
 "nbformat": 4,
 "nbformat_minor": 5
}
